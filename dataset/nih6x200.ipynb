{
 "cells": [
  {
   "cell_type": "code",
   "id": "initial_id",
   "metadata": {
    "collapsed": true
   },
   "source": [
    "import pandas as pd\n",
    "import numpy as np\n",
    "from sklearn.model_selection import train_test_split"
   ],
   "outputs": [],
   "execution_count": null
  },
  {
   "metadata": {},
   "cell_type": "markdown",
   "source": "### Initial Data Processing",
   "id": "123d95ad5784ce89"
  },
  {
   "metadata": {},
   "cell_type": "code",
   "source": [
    "# Read the input CSV file\n",
    "input_file_path = './Data_Entry_2017_v2020.csv'\n",
    "df = pd.read_csv(input_file_path)\n",
    "df"
   ],
   "id": "ff5a3f3104799a39",
   "outputs": [],
   "execution_count": null
  },
  {
   "metadata": {},
   "cell_type": "code",
   "source": [
    "# Split 'Finding Labels' column into a list based on '|'\n",
    "df['Finding Labels'] = df['Finding Labels'].str.split('|')"
   ],
   "id": "d3022a0f08c711c9",
   "outputs": [],
   "execution_count": null
  },
  {
   "metadata": {},
   "cell_type": "code",
   "source": [
    "# Get all unique disease categories\n",
    "categories = sorted(set(label for sublist in df['Finding Labels'] for label in sublist))\n",
    "\n",
    "# One-hot encode all disease categories\n",
    "for category in categories:\n",
    "    df[category] = df['Finding Labels'].apply(lambda x: 1 if category in x else 0)"
   ],
   "id": "4364ee6bb12c7faf",
   "outputs": [],
   "execution_count": null
  },
  {
   "metadata": {},
   "cell_type": "code",
   "source": [
    "# Extract rows with exactly one disease\n",
    "single_disease_df = df[df['Finding Labels'].apply(len) == 1]\n",
    "# single_disease_df.to_csv('./single_disease.csv', index=False)"
   ],
   "id": "b797905c63c80451",
   "outputs": [],
   "execution_count": null
  },
  {
   "metadata": {},
   "cell_type": "code",
   "source": [
    "# Define the 6 specific diseases for the 6x200 dataset\n",
    "specific_diseases = ['Atelectasis', 'Cardiomegaly', 'Consolidation', 'Edema', 'Effusion', 'Pneumothorax']\n",
    "\n",
    "# Filter to rows where only one of the specific diseases is present\n",
    "specific_disease_df = single_disease_df[single_disease_df['Finding Labels'].apply(lambda x: x[0] in specific_diseases)]\n",
    "specific_disease_df"
   ],
   "id": "419f3744b73b4475",
   "outputs": [],
   "execution_count": null
  },
  {
   "metadata": {},
   "cell_type": "code",
   "source": [
    "columns_to_keep = ['Image Index', 'Finding Labels', 'Follow-up #', 'Patient ID', 'Patient Age', 'Patient Gender', 'View Position'] + specific_diseases\n",
    "specific_disease_df = specific_disease_df[columns_to_keep]\n",
    "# specific_disease_df.to_csv('./specific_diseases.csv', index=False)\n",
    "specific_disease_df"
   ],
   "id": "2420dff02973937f",
   "outputs": [],
   "execution_count": null
  },
  {
   "metadata": {},
   "cell_type": "markdown",
   "source": "### Balanced 6x200 Dataset",
   "id": "81c3908d9ac3abcf"
  },
  {
   "metadata": {},
   "cell_type": "code",
   "source": [
    "# Instead of directly assigning the slice, create a copy\n",
    "df = specific_disease_df.copy()\n",
    "\n",
    "# Define age groups and genders\n",
    "age_bins = [0, 60, 100]\n",
    "age_labels = ['0-60', '61-100']\n",
    "df['Age Group'] = pd.cut(df['Patient Age'], bins=age_bins, labels=age_labels, right=False)\n",
    "genders = ['M', 'F']\n",
    "\n",
    "# Initialize an empty DataFrame for the balanced dataset\n",
    "balanced_df = pd.DataFrame()\n",
    "\n",
    "# Target 50 samples per combination (2 age groups * 2 genders * 50 = 200 per disease)\n",
    "target_samples_per_group = 50"
   ],
   "id": "d5815b532a483f76",
   "outputs": [],
   "execution_count": null
  },
  {
   "metadata": {},
   "cell_type": "code",
   "source": [
    "for disease in specific_diseases:\n",
    "    for age_group in age_labels:\n",
    "        for gender in genders:\n",
    "            # Filter data for this combination\n",
    "            group_df = df[(df['Age Group'] == age_group) & \n",
    "                          (df['Patient Gender'] == gender) & \n",
    "                          (df[disease] == 1)].copy()\n",
    "            \n",
    "            # Add Patient_ID column\n",
    "            group_df['Patient_ID'] = group_df['Image Index'].apply(lambda x: x.split('_')[0])\n",
    "            unique_patients_df = group_df.drop_duplicates(subset='Patient_ID')\n",
    "            \n",
    "            # Sample exactly 50 unique patients (with replacement if needed)\n",
    "            if len(unique_patients_df) >= target_samples_per_group:\n",
    "                selected_df = unique_patients_df.sample(n=target_samples_per_group, random_state=42)\n",
    "            else:\n",
    "                selected_df = unique_patients_df.sample(n=target_samples_per_group, replace=True, random_state=42)\n",
    "            \n",
    "            balanced_df = pd.concat([balanced_df, selected_df])\n",
    "            \n",
    "balanced_df = balanced_df[balanced_df['Finding Labels'].apply(len) == 1].copy()\n",
    "balanced_df['Finding Labels'] = balanced_df['Finding Labels'].str[0]\n",
    "\n",
    "balanced_df"
   ],
   "id": "9ced2ecc2505ed05",
   "outputs": [],
   "execution_count": null
  },
  {
   "metadata": {},
   "cell_type": "markdown",
   "source": "### Split into train/val/test (70%/10%/20% per group)",
   "id": "6b9cd985dddcb52c"
  },
  {
   "metadata": {},
   "cell_type": "code",
   "source": [
    "train_df = pd.DataFrame()\n",
    "val_df = pd.DataFrame()\n",
    "test_df = pd.DataFrame()\n",
    "\n",
    "groups = balanced_df.groupby(['Age Group', 'Patient Gender', 'Finding Labels'])\n",
    "for _, group in groups:\n",
    "    train_tmp, val_test_tmp = train_test_split(group, test_size=15, random_state=42)  # 50 - 35 = 15\n",
    "    val_tmp, test_tmp = train_test_split(val_test_tmp, test_size=10, random_state=42)  # 15 into 5 val, 10 test\n",
    "    train_df = pd.concat([train_df, train_tmp])\n",
    "    val_df = pd.concat([val_df, val_tmp])\n",
    "    test_df = pd.concat([test_df, test_tmp])"
   ],
   "id": "c2352da160d3364d",
   "outputs": [],
   "execution_count": null
  },
  {
   "metadata": {},
   "cell_type": "code",
   "source": [
    "columns_needed = ['Image Index', 'Finding Labels', 'Follow-up #', 'Patient ID', 'Patient Age', 'Patient Gender', 'View Position'] + specific_diseases\n",
    "balanced_df = balanced_df[columns_needed]\n",
    "train_df = train_df[columns_needed]\n",
    "val_df = val_df[columns_needed]\n",
    "test_df = test_df[columns_needed]"
   ],
   "id": "733bab2e756e67ed",
   "outputs": [],
   "execution_count": null
  },
  {
   "metadata": {},
   "cell_type": "code",
   "source": [
    "# Save the balanced dataset\n",
    "balanced_df.to_csv('./nih6x200.csv', index=False)\n",
    "print(f\"Balanced 6x200 dataset saved to './nih6x200.csv' with {len(balanced_df)} samples\")\n",
    "balanced_df"
   ],
   "id": "1b6832a848db6509",
   "outputs": [],
   "execution_count": null
  },
  {
   "metadata": {},
   "cell_type": "code",
   "source": [
    "# Save the splits\n",
    "train_df.to_csv('./nih6x200_train.csv', index=False)\n",
    "val_df.to_csv('./nih6x200_val.csv', index=False)\n",
    "test_df.to_csv('./nih6x200_test.csv', index=False)\n",
    "print(f\"Balanced dataset split: Train ({len(train_df)}), Val ({len(val_df)}), Test ({len(test_df)})\")\n",
    "test_df"
   ],
   "id": "f26e259587c9fe96",
   "outputs": [],
   "execution_count": null
  }
 ],
 "metadata": {
  "kernelspec": {
   "display_name": "Python 3",
   "language": "python",
   "name": "python3"
  },
  "language_info": {
   "codemirror_mode": {
    "name": "ipython",
    "version": 2
   },
   "file_extension": ".py",
   "mimetype": "text/x-python",
   "name": "python",
   "nbconvert_exporter": "python",
   "pygments_lexer": "ipython2",
   "version": "2.7.6"
  }
 },
 "nbformat": 4,
 "nbformat_minor": 5
}
